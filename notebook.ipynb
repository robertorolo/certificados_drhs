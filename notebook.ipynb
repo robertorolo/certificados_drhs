{
 "cells": [
  {
   "cell_type": "code",
   "execution_count": 1,
   "metadata": {},
   "outputs": [],
   "source": [
    "import pandas as pd\n",
    "from docx import Document\n",
    "from docx2pdf import convert\n",
    "import smtplib\n",
    "import os.path\n",
    "from email.mime.multipart import MIMEMultipart\n",
    "from email.mime.text import MIMEText\n",
    "from email.mime.application import MIMEApplication"
   ]
  },
  {
   "cell_type": "code",
   "execution_count": 2,
   "metadata": {},
   "outputs": [],
   "source": [
    "gmail_user = 'drhscomunicahidreletricas@gmail.com'\n",
    "gmail_password = 'Sparta1941'\n",
    "\n",
    "try:\n",
    "    server = smtplib.SMTP_SSL('smtp.gmail.com', 465)\n",
    "    server.ehlo()\n",
    "    server.login(gmail_user, gmail_password)\n",
    "except:\n",
    "    print('Something went wrong...')"
   ]
  },
  {
   "cell_type": "code",
   "execution_count": 3,
   "metadata": {},
   "outputs": [],
   "source": [
    "def send_email(subject, message, from_email, to_email=[], attachment=[]):\n",
    "    \"\"\"\n",
    "    :param subject: email subject\n",
    "    :param message: Body content of the email (string), can be HTML/CSS or plain text\n",
    "    :param from_email: Email address from where the email is sent\n",
    "    :param to_email: List of email recipients, example: [\"a@a.com\", \"b@b.com\"]\n",
    "    :param attachment: List of attachments, exmaple: [\"file1.txt\", \"file2.txt\"]\n",
    "    \"\"\"\n",
    "    msg = MIMEMultipart()\n",
    "    msg['Subject'] = subject\n",
    "    msg['From'] = from_email\n",
    "    msg['To'] = \", \".join(to_email)\n",
    "    msg.attach(MIMEText(message, 'html'))\n",
    "\n",
    "    for f in attachment:\n",
    "        with open(f, 'rb') as a_file:\n",
    "            basename = os.path.basename(f)\n",
    "            part = MIMEApplication(a_file.read(), Name=basename)\n",
    "\n",
    "        part['Content-Disposition'] = 'attachment; filename=\"%s\"' % basename\n",
    "        msg.attach(part)\n",
    "\n",
    "    server = smtplib.SMTP_SSL('smtp.gmail.com', 465)\n",
    "    server.ehlo()\n",
    "    server.login(gmail_user, gmail_password)\n",
    "    server.sendmail(from_email, to_email, msg.as_string())"
   ]
  },
  {
   "cell_type": "code",
   "execution_count": 4,
   "metadata": {},
   "outputs": [],
   "source": [
    "df = pd.read_csv(\"DRHS Comunica - Monitoramento das Hidrelétricas - presença.csv\")"
   ]
  },
  {
   "cell_type": "code",
   "execution_count": 5,
   "metadata": {
    "scrolled": true
   },
   "outputs": [
    {
     "data": {
      "text/html": [
       "<div>\n",
       "<style scoped>\n",
       "    .dataframe tbody tr th:only-of-type {\n",
       "        vertical-align: middle;\n",
       "    }\n",
       "\n",
       "    .dataframe tbody tr th {\n",
       "        vertical-align: top;\n",
       "    }\n",
       "\n",
       "    .dataframe thead th {\n",
       "        text-align: right;\n",
       "    }\n",
       "</style>\n",
       "<table border=\"1\" class=\"dataframe\">\n",
       "  <thead>\n",
       "    <tr style=\"text-align: right;\">\n",
       "      <th></th>\n",
       "      <th>Carimbo de data/hora</th>\n",
       "      <th>Nome completo:</th>\n",
       "      <th>E-mail:</th>\n",
       "      <th>Profissional:</th>\n",
       "      <th>Qual(is) usuário(s) de água representa? (separar por vírgulas)</th>\n",
       "      <th>Qual(is) empreendimento(s) representa? (separar por vírgulas)</th>\n",
       "    </tr>\n",
       "  </thead>\n",
       "  <tbody>\n",
       "    <tr>\n",
       "      <th>0</th>\n",
       "      <td>2021/04/06 10:54:19 AM GMT-3</td>\n",
       "      <td>Amanda Fadel</td>\n",
       "      <td>amanda-fadel@sema.rs.gov.br</td>\n",
       "      <td>Órgão Gestor</td>\n",
       "      <td>NaN</td>\n",
       "      <td>NaN</td>\n",
       "    </tr>\n",
       "    <tr>\n",
       "      <th>1</th>\n",
       "      <td>2021/04/06 10:59:17 AM GMT-3</td>\n",
       "      <td>Roberto Mentzingen Rolo</td>\n",
       "      <td>roberto-rolo@sema.rs.gov.br</td>\n",
       "      <td>Analista SIOUT</td>\n",
       "      <td>NaN</td>\n",
       "      <td>NaN</td>\n",
       "    </tr>\n",
       "  </tbody>\n",
       "</table>\n",
       "</div>"
      ],
      "text/plain": [
       "           Carimbo de data/hora           Nome completo:  \\\n",
       "0  2021/04/06 10:54:19 AM GMT-3             Amanda Fadel   \n",
       "1  2021/04/06 10:59:17 AM GMT-3  Roberto Mentzingen Rolo   \n",
       "\n",
       "                       E-mail:   Profissional:  \\\n",
       "0  amanda-fadel@sema.rs.gov.br    Órgão Gestor   \n",
       "1  roberto-rolo@sema.rs.gov.br  Analista SIOUT   \n",
       "\n",
       "   Qual(is) usuário(s) de água representa? (separar por vírgulas)  \\\n",
       "0                                                NaN                \n",
       "1                                                NaN                \n",
       "\n",
       "   Qual(is) empreendimento(s) representa? (separar por vírgulas)  \n",
       "0                                                NaN              \n",
       "1                                                NaN              "
      ]
     },
     "execution_count": 5,
     "metadata": {},
     "output_type": "execute_result"
    }
   ],
   "source": [
    "df.head()"
   ]
  },
  {
   "cell_type": "code",
   "execution_count": 6,
   "metadata": {},
   "outputs": [
    {
     "data": {
      "application/vnd.jupyter.widget-view+json": {
       "model_id": "0f48cc31a51e4cf384ccee1903796f6e",
       "version_major": 2,
       "version_minor": 0
      },
      "text/plain": [
       "HBox(children=(HTML(value=''), FloatProgress(value=0.0, max=1.0), HTML(value='')))"
      ]
     },
     "metadata": {},
     "output_type": "display_data"
    },
    {
     "data": {
      "application/vnd.jupyter.widget-view+json": {
       "model_id": "bc6b44d0e70b492796076b78b86e5e65",
       "version_major": 2,
       "version_minor": 0
      },
      "text/plain": [
       "HBox(children=(HTML(value=''), FloatProgress(value=0.0, max=1.0), HTML(value='')))"
      ]
     },
     "metadata": {},
     "output_type": "display_data"
    },
    {
     "name": "stdout",
     "output_type": "stream",
     "text": [
      "Done!\n"
     ]
    }
   ],
   "source": [
    "for idx, row in df.iterrows():\n",
    "    \n",
    "    doc=Document('modelo_certificado.docx')\n",
    "    \n",
    "    nome = row['Nome completo:']\n",
    "    nome = nome.upper()\n",
    "    email = row['E-mail:']\n",
    "    \n",
    "    for p in doc.paragraphs:\n",
    "        if 'nome' in p.text:\n",
    "            inline = p.runs\n",
    "            # Loop added to work with runs (strings with same style)\n",
    "            for i in range(len(inline)):\n",
    "                if 'nome' in inline[i].text:\n",
    "                    text = inline[i].text.replace('nome', nome)\n",
    "                    inline[i].text = text\n",
    "    \n",
    "    doc.save('certificados/{}.docx'.format(nome))\n",
    "    convert('certificados/{}.docx'.format(nome), 'certificados/{}.pdf'.format(nome))\n",
    "    arquivo_pdf = 'certificados/{}.pdf'.format(nome)\n",
    "    \n",
    "    #send_email(subject='Certificado DRHS Comunica - Monitoramento das Hidrelétricas', message= 'Segue em anexo o certificado de participação do evento DRHS Comunica - Monitoramento das Hidrelétricas.', from_email=gmail_user, to_email=[email], attachment=[arquivo_pdf])\n",
    "\n",
    "print('Done!')"
   ]
  },
  {
   "cell_type": "code",
   "execution_count": null,
   "metadata": {},
   "outputs": [],
   "source": []
  }
 ],
 "metadata": {
  "kernelspec": {
   "display_name": "Python 3",
   "language": "python",
   "name": "python3"
  },
  "language_info": {
   "codemirror_mode": {
    "name": "ipython",
    "version": 3
   },
   "file_extension": ".py",
   "mimetype": "text/x-python",
   "name": "python",
   "nbconvert_exporter": "python",
   "pygments_lexer": "ipython3",
   "version": "3.7.9"
  }
 },
 "nbformat": 4,
 "nbformat_minor": 4
}
